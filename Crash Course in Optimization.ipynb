{
 "cells": [
  {
   "cell_type": "markdown",
   "metadata": {},
   "source": [
    "### Objective Function: What do you want to achieve. Maximize or minimize something \n",
    "Max or Min f(X1,X2,...Xn)"
   ]
  },
  {
   "cell_type": "markdown",
   "metadata": {},
   "source": [
    "### Decision Variable: Things or Quantities we decided on and base our objective function around. How many books should I read...\n",
    "X1,X2,....Xn"
   ]
  },
  {
   "cell_type": "markdown",
   "metadata": {},
   "source": [
    "### Constraints: Limitations such as time, resource etc. \n",
    "fm(X1,X2...Xn) >bm"
   ]
  },
  {
   "cell_type": "markdown",
   "metadata": {},
   "source": [
    "Problem\n",
    "\n",
    "Find low cost diet with sufficient amount of protein\n",
    "\n",
    "Steak: 2 protein/lb, 3$ per lb\n",
    "\n",
    "PB: 1 protein/lb, $2/lb\n",
    "\n",
    "Constraint: Minimum 4 protients per day"
   ]
  },
  {
   "cell_type": "markdown",
   "metadata": {},
   "source": [
    "### Decision Variables\n",
    "\n",
    "X1: Peanut Butter\n",
    "\n",
    "X2: Steak"
   ]
  },
  {
   "cell_type": "markdown",
   "metadata": {},
   "source": [
    "### Objective \n",
    "\n",
    "Minimize total cost = (2 * x1) + (3 * x2)"
   ]
  },
  {
   "cell_type": "markdown",
   "metadata": {},
   "source": [
    "### Constraints\n",
    "Satisfy minimum protein intake: x1 + 2*x2 >= 4"
   ]
  },
  {
   "cell_type": "code",
   "execution_count": 92,
   "metadata": {},
   "outputs": [],
   "source": [
    "from pulp import *\n",
    "prob = pulp.LpProblem(\"Diet\",pulp.LpMinimize)"
   ]
  },
  {
   "cell_type": "markdown",
   "metadata": {},
   "source": [
    "### Decision Variable"
   ]
  },
  {
   "cell_type": "code",
   "execution_count": 93,
   "metadata": {},
   "outputs": [],
   "source": [
    "x1 = LpVariable(\"PeanutButter\",0,None,LpInteger)\n",
    "x2 = LpVariable(\"Steak\",0,None, LpInteger)"
   ]
  },
  {
   "cell_type": "markdown",
   "metadata": {},
   "source": [
    "### Objective"
   ]
  },
  {
   "cell_type": "code",
   "execution_count": 94,
   "metadata": {},
   "outputs": [],
   "source": [
    "prob += 2*x1 + 3*x2, \"Total Cost\""
   ]
  },
  {
   "cell_type": "markdown",
   "metadata": {},
   "source": [
    "### Constaints"
   ]
  },
  {
   "cell_type": "code",
   "execution_count": 95,
   "metadata": {},
   "outputs": [],
   "source": [
    "prob += x1 + 2*x2 >= 4, \"Min Protein Intake\""
   ]
  },
  {
   "cell_type": "code",
   "execution_count": 96,
   "metadata": {},
   "outputs": [
    {
     "name": "stdout",
     "output_type": "stream",
     "text": [
      "Diet:\n",
      "MINIMIZE\n",
      "2*PeanutButter + 3*Steak + 0\n",
      "SUBJECT TO\n",
      "Min_Protein_Intake: PeanutButter + 2 Steak >= 4\n",
      "\n",
      "VARIABLES\n",
      "0 <= PeanutButter Integer\n",
      "0 <= Steak Integer\n",
      "\n"
     ]
    }
   ],
   "source": [
    "print prob\n",
    "prob.writeLP(\"Diet.lp\")"
   ]
  },
  {
   "cell_type": "code",
   "execution_count": 97,
   "metadata": {},
   "outputs": [
    {
     "data": {
      "text/plain": [
       "1"
      ]
     },
     "execution_count": 97,
     "metadata": {},
     "output_type": "execute_result"
    }
   ],
   "source": [
    "prob.solve()"
   ]
  },
  {
   "cell_type": "code",
   "execution_count": 98,
   "metadata": {},
   "outputs": [
    {
     "name": "stdout",
     "output_type": "stream",
     "text": [
      "('Status:', 'Optimal')\n",
      "('PeanutButter', '=', 0.0)\n",
      "('Steak', '=', 2.0)\n"
     ]
    }
   ],
   "source": [
    "print(\"Status:\",LpStatus[prob.status])\n",
    "for v in prob.variables():\n",
    "    print(v.name,\"=\",v.varValue)"
   ]
  },
  {
   "cell_type": "code",
   "execution_count": 99,
   "metadata": {},
   "outputs": [
    {
     "name": "stdout",
     "output_type": "stream",
     "text": [
      "('Optimal Soln:', 6.0)\n"
     ]
    }
   ],
   "source": [
    "print(\"Optimal Soln:\", value(prob.objective))"
   ]
  }
 ],
 "metadata": {
  "kernelspec": {
   "display_name": "Python 2",
   "language": "python",
   "name": "python2"
  },
  "language_info": {
   "codemirror_mode": {
    "name": "ipython",
    "version": 2
   },
   "file_extension": ".py",
   "mimetype": "text/x-python",
   "name": "python",
   "nbconvert_exporter": "python",
   "pygments_lexer": "ipython2",
   "version": "2.7.16"
  }
 },
 "nbformat": 4,
 "nbformat_minor": 2
}

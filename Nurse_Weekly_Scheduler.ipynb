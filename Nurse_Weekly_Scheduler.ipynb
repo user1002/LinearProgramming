{
 "cells": [
  {
   "cell_type": "code",
   "execution_count": 1,
   "metadata": {},
   "outputs": [],
   "source": [
    "from pulp import *\n",
    "import numpy as np\n",
    "import pandas as pd\n",
    "import re \n",
    "import matplotlib.pyplot as plt\n",
    "from IPython.display import Image\n",
    "%matplotlib inline"
   ]
  },
  {
   "cell_type": "markdown",
   "metadata": {},
   "source": [
    "## Read data source"
   ]
  },
  {
   "cell_type": "markdown",
   "metadata": {},
   "source": [
    "Read individual attributes and convert it to a matrix"
   ]
  },
  {
   "cell_type": "code",
   "execution_count": 2,
   "metadata": {
    "scrolled": false
   },
   "outputs": [
    {
     "name": "stderr",
     "output_type": "stream",
     "text": [
      "C:\\Users\\jthekkel\\AppData\\Local\\Continuum\\anaconda2\\lib\\site-packages\\ipykernel_launcher.py:3: FutureWarning: Method .as_matrix will be removed in a future version. Use .values instead.\n",
      "  This is separate from the ipykernel package so we can avoid doing imports until\n",
      "C:\\Users\\jthekkel\\AppData\\Local\\Continuum\\anaconda2\\lib\\site-packages\\ipykernel_launcher.py:9: FutureWarning: Method .as_matrix will be removed in a future version. Use .values instead.\n",
      "  if __name__ == '__main__':\n"
     ]
    }
   ],
   "source": [
    "fields = ['Pay']\n",
    "df1 = pd.read_excel(r'C:\\Users\\jthekkel\\Documents\\Optimization\\NurseOptimizationDetail.xlsx',sheet_name='Data',usecols=fields)\n",
    "np_pay = df1.as_matrix()\n",
    "#print(df1)\n",
    "\n",
    "\n",
    "fields = ['Quality']\n",
    "df2 = pd.read_excel(r'C:\\Users\\jthekkel\\Documents\\Optimization\\NurseOptimizationDetail.xlsx',sheet_name='Data',usecols=fields)\n",
    "np_qual = df2.as_matrix()\n",
    "#print(df2)\n"
   ]
  },
  {
   "cell_type": "markdown",
   "metadata": {
    "scrolled": true
   },
   "source": [
    "Read final attribute table"
   ]
  },
  {
   "cell_type": "code",
   "execution_count": 3,
   "metadata": {
    "scrolled": true
   },
   "outputs": [
    {
     "name": "stdout",
     "output_type": "stream",
     "text": [
      "    MondayAvail  TuesdayAvail  WednesdayAvail  ThursdayAvail  FridayAvail\n",
      "0           1.0           1.0             1.0            1.0          NaN\n",
      "1           1.0           1.0             1.0            1.0          1.0\n",
      "2           1.0           1.0             NaN            NaN          NaN\n",
      "3           1.0           NaN             1.0            NaN          1.0\n",
      "4           NaN           1.0             NaN            1.0          1.0\n",
      "5           NaN           1.0             NaN            NaN          1.0\n",
      "6           1.0           NaN             1.0            NaN          1.0\n",
      "7           1.0           1.0             NaN            NaN          NaN\n",
      "8           NaN           1.0             1.0            1.0          1.0\n",
      "9           1.0           1.0             NaN            1.0          1.0\n",
      "10          NaN           1.0             1.0            1.0          1.0\n",
      "11          1.0           NaN             1.0            NaN          1.0\n",
      "12          1.0           1.0             NaN            1.0          1.0\n"
     ]
    }
   ],
   "source": [
    "fields = ['MondayAvail','TuesdayAvail','WednesdayAvail','ThursdayAvail','FridayAvail']\n",
    "dfAvail = pd.read_excel(r'C:\\Users\\jthekkel\\Documents\\Optimization\\NurseOptimizationDetail.xlsx',sheet_name='Data',usecols=fields)\n",
    "dfAvail.replace(0,np.nan, inplace = True)\n",
    "\n",
    "print(dfAvail)"
   ]
  },
  {
   "cell_type": "markdown",
   "metadata": {},
   "source": [
    "Matrix multuplication - multiply all attributes"
   ]
  },
  {
   "cell_type": "code",
   "execution_count": 4,
   "metadata": {},
   "outputs": [
    {
     "name": "stdout",
     "output_type": "stream",
     "text": [
      "    MondayAvail  TuesdayAvail  WednesdayAvail  ThursdayAvail  FridayAvail\n",
      "0          18.0          18.0            18.0           18.0          NaN\n",
      "1         180.0         180.0           180.0          180.0        180.0\n",
      "2          95.0          95.0             NaN            NaN          NaN\n",
      "3          20.0           NaN            20.0            NaN         20.0\n",
      "4           NaN          20.0             NaN           20.0         20.0\n",
      "5           NaN          20.0             NaN            NaN         20.0\n",
      "6          40.0           NaN            40.0            NaN         40.0\n",
      "7          60.0          60.0             NaN            NaN          NaN\n",
      "8           NaN         140.0           140.0          140.0        140.0\n",
      "9         200.0         200.0             NaN          200.0        200.0\n",
      "10          NaN          63.0            63.0           63.0         63.0\n",
      "11         63.0           NaN            63.0            NaN         63.0\n",
      "12        132.0         132.0             NaN          132.0        132.0\n"
     ]
    }
   ],
   "source": [
    "df = dfAvail.multiply(np_pay,axis=0)\n",
    "df = df.multiply(np_qual,axis=0)\n",
    "print(df)"
   ]
  },
  {
   "cell_type": "markdown",
   "metadata": {},
   "source": [
    "## Create Problem  "
   ]
  },
  {
   "cell_type": "code",
   "execution_count": 5,
   "metadata": {},
   "outputs": [],
   "source": [
    "#We want to minimize the cost\n",
    "prob = pulp.LpProblem('ScheduleNurse',pulp.LpMinimize)"
   ]
  },
  {
   "cell_type": "markdown",
   "metadata": {},
   "source": [
    "## Decision Variables "
   ]
  },
  {
   "cell_type": "markdown",
   "metadata": {},
   "source": []
  },
  {
   "cell_type": "code",
   "execution_count": 6,
   "metadata": {},
   "outputs": [
    {
     "name": "stdout",
     "output_type": "stream",
     "text": [
      "[ 0  1  2  3  4  5  6  7  8  9 10 11 12]\n",
      "    MondayAvail  TuesdayAvail  WednesdayAvail  ThursdayAvail  FridayAvail\n",
      "0           0.0           0.0             0.0            0.0          NaN\n",
      "1           1.0           1.0             1.0            1.0          1.0\n",
      "2           2.0           2.0             NaN            NaN          NaN\n",
      "3           3.0           NaN             3.0            NaN          3.0\n",
      "4           NaN           4.0             NaN            4.0          4.0\n",
      "5           NaN           5.0             NaN            NaN          5.0\n",
      "6           6.0           NaN             6.0            NaN          6.0\n",
      "7           7.0           7.0             NaN            NaN          NaN\n",
      "8           NaN           8.0             8.0            8.0          8.0\n",
      "9           9.0           9.0             NaN            9.0          9.0\n",
      "10          NaN          10.0            10.0           10.0         10.0\n",
      "11         11.0           NaN            11.0            NaN         11.0\n",
      "12         12.0          12.0             NaN           12.0         12.0\n"
     ]
    },
    {
     "name": "stderr",
     "output_type": "stream",
     "text": [
      "C:\\Users\\jthekkel\\AppData\\Local\\Continuum\\anaconda2\\lib\\site-packages\\ipykernel_launcher.py:4: FutureWarning: Method .as_matrix will be removed in a future version. Use .values instead.\n",
      "  after removing the cwd from sys.path.\n"
     ]
    }
   ],
   "source": [
    "dfAvail['ID'] = dfAvail.reset_index().index\n",
    "\n",
    "RM = dfAvail.ID.as_matrix()\n",
    "\n",
    "dfAvail = dfAvail.multiply(RM,axis=0)\n",
    "dfAvail = dfAvail.drop(columns=['ID'])\n",
    "\n",
    "print RM\n",
    "print(dfAvail)\t\n"
   ]
  },
  {
   "cell_type": "code",
   "execution_count": 7,
   "metadata": {},
   "outputs": [
    {
     "name": "stdout",
     "output_type": "stream",
     "text": [
      "{'TuesdayAvail': 1, 'FridayAvail': 4, 'ThursdayAvail': 3, 'MondayAvail': 0, 'WednesdayAvail': 2}\n",
      "0\n"
     ]
    }
   ],
   "source": [
    "released = {\n",
    "\t\t\"MondayAvail\" : 0,\n",
    "\t\t\"TuesdayAvail\" : 1,\n",
    "\t\t\"WednesdayAvail\" : 2,\n",
    "\t\t\"ThursdayAvail\" : 3,\n",
    "\t\t\"FridayAvail\" : 4\n",
    "\t}\n",
    "print released\n",
    "\n",
    "print released.get(\"MondayAvail\", \"none\")"
   ]
  },
  {
   "cell_type": "code",
   "execution_count": 8,
   "metadata": {},
   "outputs": [
    {
     "name": "stdout",
     "output_type": "stream",
     "text": [
      "[['MondayAvail', 0.0], ['MondayAvail', 1.0], ['MondayAvail', 2.0], ['MondayAvail', 3.0], ['MondayAvail', nan], ['MondayAvail', nan], ['MondayAvail', 6.0], ['MondayAvail', 7.0], ['MondayAvail', nan], ['MondayAvail', 9.0], ['MondayAvail', nan], ['MondayAvail', 11.0], ['MondayAvail', 12.0], ['TuesdayAvail', 0.0], ['TuesdayAvail', 1.0], ['TuesdayAvail', 2.0], ['TuesdayAvail', nan], ['TuesdayAvail', 4.0], ['TuesdayAvail', 5.0], ['TuesdayAvail', nan], ['TuesdayAvail', 7.0], ['TuesdayAvail', 8.0], ['TuesdayAvail', 9.0], ['TuesdayAvail', 10.0], ['TuesdayAvail', nan], ['TuesdayAvail', 12.0], ['WednesdayAvail', 0.0], ['WednesdayAvail', 1.0], ['WednesdayAvail', nan], ['WednesdayAvail', 3.0], ['WednesdayAvail', nan], ['WednesdayAvail', nan], ['WednesdayAvail', 6.0], ['WednesdayAvail', nan], ['WednesdayAvail', 8.0], ['WednesdayAvail', nan], ['WednesdayAvail', 10.0], ['WednesdayAvail', 11.0], ['WednesdayAvail', nan], ['ThursdayAvail', 0.0], ['ThursdayAvail', 1.0], ['ThursdayAvail', nan], ['ThursdayAvail', nan], ['ThursdayAvail', 4.0], ['ThursdayAvail', nan], ['ThursdayAvail', nan], ['ThursdayAvail', nan], ['ThursdayAvail', 8.0], ['ThursdayAvail', 9.0], ['ThursdayAvail', 10.0], ['ThursdayAvail', nan], ['ThursdayAvail', 12.0], ['FridayAvail', nan], ['FridayAvail', 1.0], ['FridayAvail', nan], ['FridayAvail', 3.0], ['FridayAvail', 4.0], ['FridayAvail', 5.0], ['FridayAvail', 6.0], ['FridayAvail', nan], ['FridayAvail', 8.0], ['FridayAvail', 9.0], ['FridayAvail', 10.0], ['FridayAvail', 11.0], ['FridayAvail', 12.0]]\n"
     ]
    }
   ],
   "source": [
    "colname =\"\"\n",
    "day = \"\"\n",
    "list2 =[]\n",
    "n = 0\n",
    "\n",
    "\n",
    "for col in dfAvail:\n",
    "    for i,d in dfAvail.iteritems():\n",
    "        colname = i\n",
    "        for index, rows in dfAvail.iterrows():\n",
    "            if colname == col:\n",
    "                day = released.get(col, \"none\")\n",
    "                my_list = [colname,rows[day]]\n",
    "                list2.append(my_list)\n",
    "\n",
    "             \n",
    "print list2\n"
   ]
  },
  {
   "cell_type": "code",
   "execution_count": 9,
   "metadata": {},
   "outputs": [
    {
     "name": "stdout",
     "output_type": "stream",
     "text": [
      "[['MondayAvail', 0.0], ['MondayAvail', 1.0], ['MondayAvail', 2.0], ['MondayAvail', 3.0], ['MondayAvail', nan], ['MondayAvail', nan], ['MondayAvail', 6.0], ['MondayAvail', 7.0], ['MondayAvail', nan], ['MondayAvail', 9.0], ['MondayAvail', nan], ['MondayAvail', 11.0], ['MondayAvail', 12.0], ['TuesdayAvail', 0.0], ['TuesdayAvail', 1.0], ['TuesdayAvail', 2.0], ['TuesdayAvail', nan], ['TuesdayAvail', 4.0], ['TuesdayAvail', 5.0], ['TuesdayAvail', nan], ['TuesdayAvail', 7.0], ['TuesdayAvail', 8.0], ['TuesdayAvail', 9.0], ['TuesdayAvail', 10.0], ['TuesdayAvail', nan], ['TuesdayAvail', 12.0], ['WednesdayAvail', 0.0], ['WednesdayAvail', 1.0], ['WednesdayAvail', nan], ['WednesdayAvail', 3.0], ['WednesdayAvail', nan], ['WednesdayAvail', nan], ['WednesdayAvail', 6.0], ['WednesdayAvail', nan], ['WednesdayAvail', 8.0], ['WednesdayAvail', nan], ['WednesdayAvail', 10.0], ['WednesdayAvail', 11.0], ['WednesdayAvail', nan], ['ThursdayAvail', 0.0], ['ThursdayAvail', 1.0], ['ThursdayAvail', nan], ['ThursdayAvail', nan], ['ThursdayAvail', 4.0], ['ThursdayAvail', nan], ['ThursdayAvail', nan], ['ThursdayAvail', nan], ['ThursdayAvail', 8.0], ['ThursdayAvail', 9.0], ['ThursdayAvail', 10.0], ['ThursdayAvail', nan], ['ThursdayAvail', 12.0], ['FridayAvail', nan], ['FridayAvail', 1.0], ['FridayAvail', nan], ['FridayAvail', 3.0], ['FridayAvail', 4.0], ['FridayAvail', 5.0], ['FridayAvail', 6.0], ['FridayAvail', nan], ['FridayAvail', 8.0], ['FridayAvail', 9.0], ['FridayAvail', 10.0], ['FridayAvail', 11.0], ['FridayAvail', 12.0]]\n"
     ]
    }
   ],
   "source": [
    "list3 = []\n",
    "dv_list = []\n",
    "\n",
    "for i,r in list2:\n",
    "    #if r > 0:\n",
    "    list3 = [i,r]\n",
    "    dv_list.append(list3)\n",
    "\n",
    "print(dv_list)\n",
    "        "
   ]
  },
  {
   "cell_type": "code",
   "execution_count": 10,
   "metadata": {
    "scrolled": true
   },
   "outputs": [
    {
     "name": "stdout",
     "output_type": "stream",
     "text": [
      "[]\n"
     ]
    }
   ],
   "source": [
    "dv=[]\n",
    "\n",
    "#dv = set(tuple(element) for element in list2)\n",
    "dv = sorted(dv)\n",
    "print dv"
   ]
  },
  {
   "cell_type": "code",
   "execution_count": 11,
   "metadata": {},
   "outputs": [
    {
     "name": "stdout",
     "output_type": "stream",
     "text": [
      "[]\n"
     ]
    }
   ],
   "source": [
    "print sorted(dv)"
   ]
  },
  {
   "cell_type": "code",
   "execution_count": 12,
   "metadata": {
    "scrolled": true
   },
   "outputs": [
    {
     "name": "stdout",
     "output_type": "stream",
     "text": [
      "[x0.0MondayAvail, x1.0MondayAvail, x2.0MondayAvail, x3.0MondayAvail, x6.0MondayAvail, x7.0MondayAvail, x9.0MondayAvail, x11.0MondayAvail, x12.0MondayAvail, x0.0TuesdayAvail, x1.0TuesdayAvail, x2.0TuesdayAvail, x4.0TuesdayAvail, x5.0TuesdayAvail, x7.0TuesdayAvail, x8.0TuesdayAvail, x9.0TuesdayAvail, x10.0TuesdayAvail, x12.0TuesdayAvail, x0.0WednesdayAvail, x1.0WednesdayAvail, x3.0WednesdayAvail, x6.0WednesdayAvail, x8.0WednesdayAvail, x10.0WednesdayAvail, x11.0WednesdayAvail, x0.0ThursdayAvail, x1.0ThursdayAvail, x4.0ThursdayAvail, x8.0ThursdayAvail, x9.0ThursdayAvail, x10.0ThursdayAvail, x12.0ThursdayAvail, x1.0FridayAvail, x3.0FridayAvail, x4.0FridayAvail, x5.0FridayAvail, x6.0FridayAvail, x8.0FridayAvail, x9.0FridayAvail, x10.0FridayAvail, x11.0FridayAvail, x12.0FridayAvail]\n",
      "43\n"
     ]
    }
   ],
   "source": [
    "decision_variables =[]\n",
    "\n",
    "for l,r in dv_list:\n",
    "    if r >= 0:\n",
    "        variable = str('x' + str(r) + str(l) )\n",
    "        variable = pulp.LpVariable(str(variable), lowBound = 0, upBound = 1, cat= 'Integer') #make variables binary\n",
    "        decision_variables.append(variable)\n",
    "    \n",
    "print(str(decision_variables))\n",
    "print(str(len(decision_variables)))    \n",
    "    "
   ]
  },
  {
   "cell_type": "markdown",
   "metadata": {},
   "source": [
    "## Objective Function "
   ]
  },
  {
   "cell_type": "code",
   "execution_count": 13,
   "metadata": {},
   "outputs": [],
   "source": [
    "Mon=[]\n",
    "Tue=[]\n",
    "Wed=[]\n",
    "Thu=[]\n",
    "Fri=[]\n",
    "\n",
    "for i, r in df.iterrows():\n",
    "    Mon.append(r[0])\n",
    "    Tue.append(r[1])\n",
    "    Wed.append(r[2])\n",
    "    Thu.append(r[3])\n",
    "    Fri.append(r[4])\n",
    "    \n",
    "Scorenp = np.concatenate((Mon,Tue,Wed,Thu,Fri), axis=0)  \n",
    "#print Scorenp\n",
    "columns = ['Score']\n",
    "Score = pd.DataFrame(Scorenp, columns=columns)\n",
    "#print(Score)"
   ]
  },
  {
   "cell_type": "code",
   "execution_count": 14,
   "metadata": {},
   "outputs": [
    {
     "name": "stdout",
     "output_type": "stream",
     "text": [
      "[ 18. 180.  95.  20.  nan  nan  40.  60.  nan 200.  nan  63. 132.  18.\n",
      " 180.  95.  nan  20.  20.  nan  60. 140. 200.  63.  nan 132.  18. 180.\n",
      "  nan  20.  nan  nan  40.  nan 140.  nan  63.  63.  nan  18. 180.  nan\n",
      "  nan  20.  nan  nan  nan 140. 200.  63.  nan 132.  nan 180.  nan  20.\n",
      "  20.  20.  40.  nan 140. 200.  63.  63. 132.]\n"
     ]
    }
   ],
   "source": [
    "print(Scorenp)"
   ]
  },
  {
   "cell_type": "code",
   "execution_count": 15,
   "metadata": {
    "scrolled": false
   },
   "outputs": [
    {
     "name": "stdout",
     "output_type": "stream",
     "text": [
      "0 x0.0MondayAvail\n",
      "1 x1.0MondayAvail\n",
      "2 x2.0MondayAvail\n",
      "3 x3.0MondayAvail\n",
      "4 x6.0MondayAvail\n",
      "5 x7.0MondayAvail\n",
      "6 x9.0MondayAvail\n",
      "7 x11.0MondayAvail\n",
      "8 x12.0MondayAvail\n",
      "9 x0.0TuesdayAvail\n",
      "10 x1.0TuesdayAvail\n",
      "11 x2.0TuesdayAvail\n",
      "12 x4.0TuesdayAvail\n",
      "13 x5.0TuesdayAvail\n",
      "14 x7.0TuesdayAvail\n",
      "15 x8.0TuesdayAvail\n",
      "16 x9.0TuesdayAvail\n",
      "17 x10.0TuesdayAvail\n",
      "18 x12.0TuesdayAvail\n",
      "19 x0.0WednesdayAvail\n",
      "20 x1.0WednesdayAvail\n",
      "21 x3.0WednesdayAvail\n",
      "22 x6.0WednesdayAvail\n",
      "23 x8.0WednesdayAvail\n",
      "24 x10.0WednesdayAvail\n",
      "25 x11.0WednesdayAvail\n",
      "26 x0.0ThursdayAvail\n",
      "27 x1.0ThursdayAvail\n",
      "28 x4.0ThursdayAvail\n",
      "29 x8.0ThursdayAvail\n",
      "30 x9.0ThursdayAvail\n",
      "31 x10.0ThursdayAvail\n",
      "32 x12.0ThursdayAvail\n",
      "33 x1.0FridayAvail\n",
      "34 x3.0FridayAvail\n",
      "35 x4.0FridayAvail\n",
      "36 x5.0FridayAvail\n",
      "37 x6.0FridayAvail\n",
      "38 x8.0FridayAvail\n",
      "39 x9.0FridayAvail\n",
      "40 x10.0FridayAvail\n",
      "41 x11.0FridayAvail\n",
      "42 x12.0FridayAvail\n"
     ]
    }
   ],
   "source": [
    "for i, s in enumerate(decision_variables):\n",
    "    print i,s"
   ]
  },
  {
   "cell_type": "code",
   "execution_count": 16,
   "metadata": {
    "scrolled": true
   },
   "outputs": [
    {
     "name": "stdout",
     "output_type": "stream",
     "text": [
      "[18.0, 180.0, 95.0, 20.0, 40.0, 60.0, 200.0, 63.0, 132.0, 18.0, 180.0, 95.0, 20.0, 20.0, 60.0, 140.0, 200.0, 63.0, 132.0, 18.0, 180.0, 20.0, 40.0, 140.0, 63.0, 63.0, 18.0, 180.0, 20.0, 140.0, 200.0, 63.0, 132.0, 180.0, 20.0, 20.0, 20.0, 40.0, 140.0, 200.0, 63.0, 63.0, 132.0]\n"
     ]
    }
   ],
   "source": [
    "Scorenp = [Scorenp for Scorenp in Scorenp if str(Scorenp) != 'nan']\n",
    "print (Scorenp)"
   ]
  },
  {
   "cell_type": "code",
   "execution_count": 17,
   "metadata": {
    "scrolled": false
   },
   "outputs": [
    {
     "name": "stdout",
     "output_type": "stream",
     "text": [
      "Optimization function: 18.0*x0.0MondayAvail + 18.0*x0.0ThursdayAvail + 18.0*x0.0TuesdayAvail + 18.0*x0.0WednesdayAvail + 180.0*x1.0FridayAvail + 180.0*x1.0MondayAvail + 180.0*x1.0ThursdayAvail + 180.0*x1.0TuesdayAvail + 180.0*x1.0WednesdayAvail + 63.0*x10.0FridayAvail + 63.0*x10.0ThursdayAvail + 63.0*x10.0TuesdayAvail + 63.0*x10.0WednesdayAvail + 63.0*x11.0FridayAvail + 63.0*x11.0MondayAvail + 63.0*x11.0WednesdayAvail + 132.0*x12.0FridayAvail + 132.0*x12.0MondayAvail + 132.0*x12.0ThursdayAvail + 132.0*x12.0TuesdayAvail + 95.0*x2.0MondayAvail + 95.0*x2.0TuesdayAvail + 20.0*x3.0FridayAvail + 20.0*x3.0MondayAvail + 20.0*x3.0WednesdayAvail + 20.0*x4.0FridayAvail + 20.0*x4.0ThursdayAvail + 20.0*x4.0TuesdayAvail + 20.0*x5.0FridayAvail + 20.0*x5.0TuesdayAvail + 40.0*x6.0FridayAvail + 40.0*x6.0MondayAvail + 40.0*x6.0WednesdayAvail + 60.0*x7.0MondayAvail + 60.0*x7.0TuesdayAvail + 140.0*x8.0FridayAvail + 140.0*x8.0ThursdayAvail + 140.0*x8.0TuesdayAvail + 140.0*x8.0WednesdayAvail + 200.0*x9.0FridayAvail + 200.0*x9.0MondayAvail + 200.0*x9.0ThursdayAvail + 200.0*x9.0TuesdayAvail\n"
     ]
    }
   ],
   "source": [
    "total_cost = \"\"\n",
    "for j, row in enumerate(Scorenp):\n",
    "    for i, schedule in enumerate(decision_variables):\n",
    "        if j == i:\n",
    "            #if row > 0:\n",
    "            formula = row * schedule\n",
    "            total_cost += formula\n",
    "            #print(j,i)\n",
    "            \n",
    "#print(total_cost)\n",
    "\n",
    "prob += total_cost\n",
    "print (\"Optimization function: \" + str(total_cost))"
   ]
  },
  {
   "cell_type": "markdown",
   "metadata": {
    "scrolled": true
   },
   "source": [
    "for j, row in enumerate(Scorenp):\n",
    "    print row"
   ]
  },
  {
   "cell_type": "markdown",
   "metadata": {},
   "source": [
    "## Constraint "
   ]
  },
  {
   "cell_type": "code",
   "execution_count": 18,
   "metadata": {},
   "outputs": [
    {
     "name": "stdout",
     "output_type": "stream",
     "text": [
      "x0.0MondayAvail\n",
      "x1.0MondayAvail\n",
      "x2.0MondayAvail\n",
      "x3.0MondayAvail\n",
      "x6.0MondayAvail\n",
      "x7.0MondayAvail\n",
      "x9.0MondayAvail\n",
      "x11.0MondayAvail\n",
      "x12.0MondayAvail\n",
      "x0.0TuesdayAvail\n",
      "x1.0TuesdayAvail\n",
      "x2.0TuesdayAvail\n",
      "x4.0TuesdayAvail\n",
      "x5.0TuesdayAvail\n",
      "x7.0TuesdayAvail\n",
      "x8.0TuesdayAvail\n",
      "x9.0TuesdayAvail\n",
      "x10.0TuesdayAvail\n",
      "x12.0TuesdayAvail\n",
      "x0.0WednesdayAvail\n",
      "x1.0WednesdayAvail\n",
      "x3.0WednesdayAvail\n",
      "x6.0WednesdayAvail\n",
      "x8.0WednesdayAvail\n",
      "x10.0WednesdayAvail\n",
      "x11.0WednesdayAvail\n",
      "x0.0ThursdayAvail\n",
      "x1.0ThursdayAvail\n",
      "x4.0ThursdayAvail\n",
      "x8.0ThursdayAvail\n",
      "x9.0ThursdayAvail\n",
      "x10.0ThursdayAvail\n",
      "x12.0ThursdayAvail\n",
      "x1.0FridayAvail\n",
      "x3.0FridayAvail\n",
      "x4.0FridayAvail\n",
      "x5.0FridayAvail\n",
      "x6.0FridayAvail\n",
      "x8.0FridayAvail\n",
      "x9.0FridayAvail\n",
      "x10.0FridayAvail\n",
      "x11.0FridayAvail\n",
      "x12.0FridayAvail\n"
     ]
    }
   ],
   "source": [
    "for i, schedule in enumerate(decision_variables[0:]):\n",
    "    print schedule"
   ]
  },
  {
   "cell_type": "code",
   "execution_count": 19,
   "metadata": {},
   "outputs": [],
   "source": [
    "Nurse0 = \"\"\n",
    "Nurse1 = \"\"\n",
    "Nurse2 = \"\"\n",
    "Nurse3 = \"\"\n",
    "Nurse4 = \"\"\n",
    "Nurse5 = \"\"\n",
    "Nurse6 = \"\"\n",
    "Nurse7 = \"\"\n",
    "Nurse8 = \"\"\n",
    "Nurse9 = \"\"\n",
    "Nurse10 = \"\"\n",
    "Nurse11 = \"\"\n",
    "Nurse12 = \"\"\n",
    "\n",
    "x0 = []\n",
    "x1 = []\n",
    "x2 = []\n",
    "x3 = []\n",
    "x4 = []\n",
    "x5 = []\n",
    "x6 = []\n",
    "x7 = []\n",
    "x8 = []\n",
    "x9 = []\n",
    "x10 = []\n",
    "x11 = []\n",
    "x12 = []\n",
    "\n",
    "# for X0\n",
    "for i, schedule in enumerate(decision_variables[0:1]):\n",
    "    x0.append(schedule)\n",
    "for i, schedule in enumerate(decision_variables[9:10]):\n",
    "    x0.append(schedule)\n",
    "for i, schedule in enumerate(decision_variables[19:20]):\n",
    "    x0.append(schedule)   \n",
    "for i, schedule in enumerate(decision_variables[26:27]):\n",
    "    x0.append(schedule)       \n",
    "    \n",
    "for i in x0:\n",
    "    Nurse0 += i\n",
    "prob += (Nurse0 <= 2)    \n",
    "    \n",
    "    \n",
    "#for X1\n",
    "for i, schedule in enumerate(decision_variables[1:2]):\n",
    "    x1.append(schedule)\n",
    "for i, schedule in enumerate(decision_variables[10:11]):\n",
    "    x1.append(schedule)\n",
    "for i, schedule in enumerate(decision_variables[20:21]):\n",
    "    x1.append(schedule)    \n",
    "for i, schedule in enumerate(decision_variables[33:34]):\n",
    "    x1.append(schedule)     \n",
    "    \n",
    "for i in x1:\n",
    "    Nurse1 += i\n",
    "prob += (Nurse1 <= 2)    \n",
    "    \n",
    "\n",
    "# for X2     \n",
    "for i, schedule in enumerate(decision_variables[2:3]):\n",
    "    x2.append(schedule)\n",
    "for i, schedule in enumerate(decision_variables[11:12]):\n",
    "    x2.append(schedule)\n",
    "\n",
    "\n",
    "for i in x2:\n",
    "    Nurse2 += i\n",
    "prob += (Nurse2 <= 2)    \n",
    "    \n",
    "    \n",
    "#for X3\n",
    "for i, schedule in enumerate(decision_variables[3:4]):\n",
    "    x3.append(schedule)\n",
    "for i, schedule in enumerate(decision_variables[21:22]):\n",
    "    x3.append(schedule)\n",
    "for i, schedule in enumerate(decision_variables[34:35]):\n",
    "    x3.append(schedule)\n",
    "    \n",
    "for i in x3:\n",
    "    Nurse3 += i\n",
    "prob += (Nurse3 <= 2)      \n",
    "\n",
    "\n",
    "#for X4\n",
    "for i, schedule in enumerate(decision_variables[12:13]):\n",
    "    x4.append(schedule)\n",
    "for i, schedule in enumerate(decision_variables[28:29]):\n",
    "    x4.append(schedule)\n",
    "for i, schedule in enumerate(decision_variables[35:36]):\n",
    "    x4.append(schedule)    \n",
    "\n",
    "for i in x4:\n",
    "    Nurse4 += i\n",
    "prob += (Nurse4 <= 2)          \n",
    "    \n",
    "\n",
    "#for X5\n",
    "for i, schedule in enumerate(decision_variables[13:14]):\n",
    "    x5.append(schedule)\n",
    "for i, schedule in enumerate(decision_variables[36:37]):\n",
    "    x5.append(schedule) \n",
    "    \n",
    "for i in x5:\n",
    "    Nurse5 += i\n",
    "prob += (Nurse5 <= 2)        \n",
    "\n",
    "\n",
    "#for X6\n",
    "for i, schedule in enumerate(decision_variables[4:5]):\n",
    "    x6.append(schedule)\n",
    "for i, schedule in enumerate(decision_variables[22:23]):\n",
    "    x6.append(schedule)\n",
    "for i, schedule in enumerate(decision_variables[37:38]):\n",
    "    x6.append(schedule)     \n",
    "\n",
    "for i in x6:\n",
    "    Nurse6 += i\n",
    "prob += (Nurse6 <= 2)        \n",
    " \n",
    "    \n",
    "#for X7\n",
    "for i, schedule in enumerate(decision_variables[5:6]):\n",
    "    x7.append(schedule)\n",
    "for i, schedule in enumerate(decision_variables[14:15]):\n",
    "    x7.append(schedule)      \n",
    "    \n",
    "for i in x7:\n",
    "    Nurse7 += i\n",
    "prob += (Nurse7 <= 2)        \n",
    "\n",
    "\n",
    "#for X8\n",
    "for i, schedule in enumerate(decision_variables[15:16]):\n",
    "    x8.append(schedule)\n",
    "for i, schedule in enumerate(decision_variables[23:24]):\n",
    "    x8.append(schedule)\n",
    "for i, schedule in enumerate(decision_variables[29:30]):\n",
    "    x8.append(schedule)\n",
    "for i, schedule in enumerate(decision_variables[38:39]):\n",
    "    x8.append(schedule)    \n",
    "\n",
    "for i in x8:\n",
    "    Nurse8 += i\n",
    "prob += (Nurse8 <= 2)        \n",
    "      \n",
    "#for X9\n",
    "for i, schedule in enumerate(decision_variables[6:7]):\n",
    "    x9.append(schedule)\n",
    "for i, schedule in enumerate(decision_variables[16:17]):\n",
    "    x9.append(schedule)\n",
    "for i, schedule in enumerate(decision_variables[30:31]):\n",
    "    x9.append(schedule)\n",
    "for i, schedule in enumerate(decision_variables[39:40]):\n",
    "    x9.append(schedule)\n",
    "\n",
    "    \n",
    "for i in x9:\n",
    "    Nurse9 += i\n",
    "prob += (Nurse9 <= 2)        \n",
    "    \n",
    "\n",
    "#for X10\n",
    "for i, schedule in enumerate(decision_variables[17:18]):\n",
    "    x10.append(schedule)\n",
    "for i, schedule in enumerate(decision_variables[24:25]):\n",
    "    x10.append(schedule)\n",
    "for i, schedule in enumerate(decision_variables[31:32]):\n",
    "    x10.append(schedule)   \n",
    "for i, schedule in enumerate(decision_variables[40:41]):\n",
    "    x10.append(schedule)      \n",
    "\n",
    "for i in x10:\n",
    "    Nurse10 += i\n",
    "prob += (Nurse10 <= 2)    \n",
    "    \n",
    "    \n",
    "#for X11\n",
    "for i, schedule in enumerate(decision_variables[7:8]):\n",
    "    x11.append(schedule)\n",
    "for i, schedule in enumerate(decision_variables[25:26]):\n",
    "    x11.append(schedule)\n",
    "for i, schedule in enumerate(decision_variables[41:42]):\n",
    "    x11.append(schedule)\n",
    "    \n",
    "for i in x11:\n",
    "    Nurse11 += i\n",
    "prob += (Nurse11 <= 2)       \n",
    "      \n",
    "    \n",
    "#for X12\n",
    "for i, schedule in enumerate(decision_variables[8:9]):\n",
    "    x12.append(schedule)\n",
    "for i, schedule in enumerate(decision_variables[18:19]):\n",
    "    x12.append(schedule)\n",
    "for i, schedule in enumerate(decision_variables[32:33]):\n",
    "    x12.append(schedule)\n",
    "for i, schedule in enumerate(decision_variables[42:43]):\n",
    "    x12.append(schedule)     \n",
    "    \n",
    "for i in x12:\n",
    "    Nurse12 += i\n",
    "prob += (Nurse12 <= 2)    \n",
    "\n"
   ]
  },
  {
   "cell_type": "code",
   "execution_count": 20,
   "metadata": {},
   "outputs": [],
   "source": [
    "#Limit nurses per shift\n",
    "\n",
    "Nurses_per_shift = 3\n",
    "Mon_Nurses = \"\"\n",
    "Tue_Nurse = \"\"\n",
    "Wed_Nurse = \"\"\n",
    "Thu_Nurse = \"\"\n",
    "Fri_Nurse = \"\"\n",
    "\n",
    "for i in decision_variables[0:9]:\n",
    "    formula = i\n",
    "    Mon_Nurses += formula\n",
    "\n",
    "prob += (Mon_Nurses == Nurses_per_shift)\n",
    "\n",
    "for i in decision_variables[9:19]:\n",
    "    formula = i\n",
    "    Tue_Nurse += formula\n",
    "\n",
    "prob += (Tue_Nurse == Nurses_per_shift)\n",
    "\n",
    "for i in decision_variables[19:26]:\n",
    "    formula = i\n",
    "    Wed_Nurse += formula\n",
    "\n",
    "prob += (Wed_Nurse == Nurses_per_shift)\n",
    "\n",
    "\n",
    "for i in decision_variables[26:33]:\n",
    "    formula = i\n",
    "    Thu_Nurse += formula\n",
    "\n",
    "prob += (Thu_Nurse == Nurses_per_shift)\n",
    "\n",
    "for i in decision_variables[33:43]:\n",
    "    formula = i\n",
    "    Fri_Nurse += formula\n",
    "\n",
    "prob += (Fri_Nurse == Nurses_per_shift)\n"
   ]
  },
  {
   "cell_type": "code",
   "execution_count": 21,
   "metadata": {
    "scrolled": false
   },
   "outputs": [
    {
     "name": "stdout",
     "output_type": "stream",
     "text": [
      "ScheduleNurse:\n",
      "MINIMIZE\n",
      "18.0*x0.0MondayAvail + 18.0*x0.0ThursdayAvail + 18.0*x0.0TuesdayAvail + 18.0*x0.0WednesdayAvail + 180.0*x1.0FridayAvail + 180.0*x1.0MondayAvail + 180.0*x1.0ThursdayAvail + 180.0*x1.0TuesdayAvail + 180.0*x1.0WednesdayAvail + 63.0*x10.0FridayAvail + 63.0*x10.0ThursdayAvail + 63.0*x10.0TuesdayAvail + 63.0*x10.0WednesdayAvail + 63.0*x11.0FridayAvail + 63.0*x11.0MondayAvail + 63.0*x11.0WednesdayAvail + 132.0*x12.0FridayAvail + 132.0*x12.0MondayAvail + 132.0*x12.0ThursdayAvail + 132.0*x12.0TuesdayAvail + 95.0*x2.0MondayAvail + 95.0*x2.0TuesdayAvail + 20.0*x3.0FridayAvail + 20.0*x3.0MondayAvail + 20.0*x3.0WednesdayAvail + 20.0*x4.0FridayAvail + 20.0*x4.0ThursdayAvail + 20.0*x4.0TuesdayAvail + 20.0*x5.0FridayAvail + 20.0*x5.0TuesdayAvail + 40.0*x6.0FridayAvail + 40.0*x6.0MondayAvail + 40.0*x6.0WednesdayAvail + 60.0*x7.0MondayAvail + 60.0*x7.0TuesdayAvail + 140.0*x8.0FridayAvail + 140.0*x8.0ThursdayAvail + 140.0*x8.0TuesdayAvail + 140.0*x8.0WednesdayAvail + 200.0*x9.0FridayAvail + 200.0*x9.0MondayAvail + 200.0*x9.0ThursdayAvail + 200.0*x9.0TuesdayAvail + 0.0\n",
      "SUBJECT TO\n",
      "_C1: x0.0MondayAvail + x0.0ThursdayAvail + x0.0TuesdayAvail\n",
      " + x0.0WednesdayAvail <= 2\n",
      "\n",
      "_C2: x1.0FridayAvail + x1.0MondayAvail + x1.0TuesdayAvail + x1.0WednesdayAvail\n",
      " <= 2\n",
      "\n",
      "_C3: x2.0MondayAvail + x2.0TuesdayAvail <= 2\n",
      "\n",
      "_C4: x3.0FridayAvail + x3.0MondayAvail + x3.0WednesdayAvail <= 2\n",
      "\n",
      "_C5: x4.0FridayAvail + x4.0ThursdayAvail + x4.0TuesdayAvail <= 2\n",
      "\n",
      "_C6: x5.0FridayAvail + x5.0TuesdayAvail <= 2\n",
      "\n",
      "_C7: x6.0FridayAvail + x6.0MondayAvail + x6.0WednesdayAvail <= 2\n",
      "\n",
      "_C8: x7.0MondayAvail + x7.0TuesdayAvail <= 2\n",
      "\n",
      "_C9: x8.0FridayAvail + x8.0ThursdayAvail + x8.0TuesdayAvail\n",
      " + x8.0WednesdayAvail <= 2\n",
      "\n",
      "_C10: x9.0FridayAvail + x9.0MondayAvail + x9.0ThursdayAvail + x9.0TuesdayAvail\n",
      " <= 2\n",
      "\n",
      "_C11: x10.0FridayAvail + x10.0ThursdayAvail + x10.0TuesdayAvail\n",
      " + x10.0WednesdayAvail <= 2\n",
      "\n",
      "_C12: x11.0FridayAvail + x11.0MondayAvail + x11.0WednesdayAvail <= 2\n",
      "\n",
      "_C13: x12.0FridayAvail + x12.0MondayAvail + x12.0ThursdayAvail\n",
      " + x12.0TuesdayAvail <= 2\n",
      "\n",
      "_C14: x0.0MondayAvail + x1.0MondayAvail + x11.0MondayAvail + x12.0MondayAvail\n",
      " + x2.0MondayAvail + x3.0MondayAvail + x6.0MondayAvail + x7.0MondayAvail\n",
      " + x9.0MondayAvail = 3\n",
      "\n",
      "_C15: x0.0TuesdayAvail + x1.0TuesdayAvail + x10.0TuesdayAvail\n",
      " + x12.0TuesdayAvail + x2.0TuesdayAvail + x4.0TuesdayAvail + x5.0TuesdayAvail\n",
      " + x7.0TuesdayAvail + x8.0TuesdayAvail + x9.0TuesdayAvail = 3\n",
      "\n",
      "_C16: x0.0WednesdayAvail + x1.0WednesdayAvail + x10.0WednesdayAvail\n",
      " + x11.0WednesdayAvail + x3.0WednesdayAvail + x6.0WednesdayAvail\n",
      " + x8.0WednesdayAvail = 3\n",
      "\n",
      "_C17: x0.0ThursdayAvail + x1.0ThursdayAvail + x10.0ThursdayAvail\n",
      " + x12.0ThursdayAvail + x4.0ThursdayAvail + x8.0ThursdayAvail\n",
      " + x9.0ThursdayAvail = 3\n",
      "\n",
      "_C18: x1.0FridayAvail + x10.0FridayAvail + x11.0FridayAvail + x12.0FridayAvail\n",
      " + x3.0FridayAvail + x4.0FridayAvail + x5.0FridayAvail + x6.0FridayAvail\n",
      " + x8.0FridayAvail + x9.0FridayAvail = 3\n",
      "\n",
      "VARIABLES\n",
      "0 <= x0.0MondayAvail <= 1 Integer\n",
      "0 <= x0.0ThursdayAvail <= 1 Integer\n",
      "0 <= x0.0TuesdayAvail <= 1 Integer\n",
      "0 <= x0.0WednesdayAvail <= 1 Integer\n",
      "0 <= x1.0FridayAvail <= 1 Integer\n",
      "0 <= x1.0MondayAvail <= 1 Integer\n",
      "0 <= x1.0ThursdayAvail <= 1 Integer\n",
      "0 <= x1.0TuesdayAvail <= 1 Integer\n",
      "0 <= x1.0WednesdayAvail <= 1 Integer\n",
      "0 <= x10.0FridayAvail <= 1 Integer\n",
      "0 <= x10.0ThursdayAvail <= 1 Integer\n",
      "0 <= x10.0TuesdayAvail <= 1 Integer\n",
      "0 <= x10.0WednesdayAvail <= 1 Integer\n",
      "0 <= x11.0FridayAvail <= 1 Integer\n",
      "0 <= x11.0MondayAvail <= 1 Integer\n",
      "0 <= x11.0WednesdayAvail <= 1 Integer\n",
      "0 <= x12.0FridayAvail <= 1 Integer\n",
      "0 <= x12.0MondayAvail <= 1 Integer\n",
      "0 <= x12.0ThursdayAvail <= 1 Integer\n",
      "0 <= x12.0TuesdayAvail <= 1 Integer\n",
      "0 <= x2.0MondayAvail <= 1 Integer\n",
      "0 <= x2.0TuesdayAvail <= 1 Integer\n",
      "0 <= x3.0FridayAvail <= 1 Integer\n",
      "0 <= x3.0MondayAvail <= 1 Integer\n",
      "0 <= x3.0WednesdayAvail <= 1 Integer\n",
      "0 <= x4.0FridayAvail <= 1 Integer\n",
      "0 <= x4.0ThursdayAvail <= 1 Integer\n",
      "0 <= x4.0TuesdayAvail <= 1 Integer\n",
      "0 <= x5.0FridayAvail <= 1 Integer\n",
      "0 <= x5.0TuesdayAvail <= 1 Integer\n",
      "0 <= x6.0FridayAvail <= 1 Integer\n",
      "0 <= x6.0MondayAvail <= 1 Integer\n",
      "0 <= x6.0WednesdayAvail <= 1 Integer\n",
      "0 <= x7.0MondayAvail <= 1 Integer\n",
      "0 <= x7.0TuesdayAvail <= 1 Integer\n",
      "0 <= x8.0FridayAvail <= 1 Integer\n",
      "0 <= x8.0ThursdayAvail <= 1 Integer\n",
      "0 <= x8.0TuesdayAvail <= 1 Integer\n",
      "0 <= x8.0WednesdayAvail <= 1 Integer\n",
      "0 <= x9.0FridayAvail <= 1 Integer\n",
      "0 <= x9.0MondayAvail <= 1 Integer\n",
      "0 <= x9.0ThursdayAvail <= 1 Integer\n",
      "0 <= x9.0TuesdayAvail <= 1 Integer\n",
      "\n"
     ]
    }
   ],
   "source": [
    "print prob\n",
    "prob.writeLP(\"ScheduleNurses.lp\" )"
   ]
  },
  {
   "cell_type": "code",
   "execution_count": 22,
   "metadata": {},
   "outputs": [],
   "source": [
    "optimization_result = prob.solve()\n",
    "assert optimization_result == pulp.LpStatusOptimal"
   ]
  },
  {
   "cell_type": "code",
   "execution_count": 23,
   "metadata": {},
   "outputs": [
    {
     "name": "stdout",
     "output_type": "stream",
     "text": [
      "Optimal\n"
     ]
    }
   ],
   "source": [
    "print(LpStatus[prob.status])"
   ]
  },
  {
   "cell_type": "code",
   "execution_count": 24,
   "metadata": {},
   "outputs": [
    {
     "name": "stdout",
     "output_type": "stream",
     "text": [
      "545.0\n"
     ]
    }
   ],
   "source": [
    "print(value(prob.objective))"
   ]
  },
  {
   "cell_type": "code",
   "execution_count": 25,
   "metadata": {
    "scrolled": false
   },
   "outputs": [
    {
     "name": "stdout",
     "output_type": "stream",
     "text": [
      "('x0.0MondayAvail', '=', 0.0)\n",
      "('x0.0ThursdayAvail', '=', 1.0)\n",
      "('x0.0TuesdayAvail', '=', 0.0)\n",
      "('x0.0WednesdayAvail', '=', 1.0)\n",
      "('x1.0FridayAvail', '=', 0.0)\n",
      "('x1.0MondayAvail', '=', 0.0)\n",
      "('x1.0ThursdayAvail', '=', 0.0)\n",
      "('x1.0TuesdayAvail', '=', 0.0)\n",
      "('x1.0WednesdayAvail', '=', 0.0)\n",
      "('x10.0FridayAvail', '=', 0.0)\n",
      "('x10.0ThursdayAvail', '=', 1.0)\n",
      "('x10.0TuesdayAvail', '=', 0.0)\n",
      "('x10.0WednesdayAvail', '=', 1.0)\n",
      "('x11.0FridayAvail', '=', 1.0)\n",
      "('x11.0MondayAvail', '=', 0.0)\n",
      "('x11.0WednesdayAvail', '=', 0.0)\n",
      "('x12.0FridayAvail', '=', 0.0)\n",
      "('x12.0MondayAvail', '=', 0.0)\n",
      "('x12.0ThursdayAvail', '=', 0.0)\n",
      "('x12.0TuesdayAvail', '=', 0.0)\n",
      "('x2.0MondayAvail', '=', 0.0)\n",
      "('x2.0TuesdayAvail', '=', 0.0)\n",
      "('x3.0FridayAvail', '=', 0.0)\n",
      "('x3.0MondayAvail', '=', 1.0)\n",
      "('x3.0WednesdayAvail', '=', 1.0)\n",
      "('x4.0FridayAvail', '=', 0.0)\n",
      "('x4.0ThursdayAvail', '=', 1.0)\n",
      "('x4.0TuesdayAvail', '=', 1.0)\n",
      "('x5.0FridayAvail', '=', 1.0)\n",
      "('x5.0TuesdayAvail', '=', 1.0)\n",
      "('x6.0FridayAvail', '=', 1.0)\n",
      "('x6.0MondayAvail', '=', 1.0)\n",
      "('x6.0WednesdayAvail', '=', 0.0)\n",
      "('x7.0MondayAvail', '=', 1.0)\n",
      "('x7.0TuesdayAvail', '=', 1.0)\n",
      "('x8.0FridayAvail', '=', 0.0)\n",
      "('x8.0ThursdayAvail', '=', 0.0)\n",
      "('x8.0TuesdayAvail', '=', 0.0)\n",
      "('x8.0WednesdayAvail', '=', 0.0)\n",
      "('x9.0FridayAvail', '=', 0.0)\n",
      "('x9.0MondayAvail', '=', 0.0)\n",
      "('x9.0ThursdayAvail', '=', 0.0)\n",
      "('x9.0TuesdayAvail', '=', 0.0)\n"
     ]
    }
   ],
   "source": [
    "for v in prob.variables():\n",
    "\tprint(v.name, \"=\", v.varValue)"
   ]
  },
  {
   "cell_type": "code",
   "execution_count": 26,
   "metadata": {
    "scrolled": false
   },
   "outputs": [
    {
     "name": "stdout",
     "output_type": "stream",
     "text": [
      "    value             variable EmpID         Day\n",
      "1     1.0    x0.0ThursdayAvail    x0   .Thursday\n",
      "3     1.0   x0.0WednesdayAvail    x0  .Wednesday\n",
      "10    1.0   x10.0ThursdayAvail   x10   .Thursday\n",
      "12    1.0  x10.0WednesdayAvail   x10  .Wednesday\n",
      "13    1.0     x11.0FridayAvail   x11     .Friday\n",
      "23    1.0      x3.0MondayAvail    x3     .Monday\n",
      "24    1.0   x3.0WednesdayAvail    x3  .Wednesday\n",
      "26    1.0    x4.0ThursdayAvail    x4   .Thursday\n",
      "27    1.0     x4.0TuesdayAvail    x4    .Tuesday\n",
      "28    1.0      x5.0FridayAvail    x5     .Friday\n",
      "29    1.0     x5.0TuesdayAvail    x5    .Tuesday\n",
      "30    1.0      x6.0FridayAvail    x6     .Friday\n",
      "31    1.0      x6.0MondayAvail    x6     .Monday\n",
      "33    1.0      x7.0MondayAvail    x7     .Monday\n",
      "34    1.0     x7.0TuesdayAvail    x7    .Tuesday\n"
     ]
    }
   ],
   "source": [
    "variable_name = []\n",
    "variable_value = []\n",
    "\n",
    "for v in prob.variables():\n",
    "    variable_name.append(v.name)\n",
    "    variable_value.append(v.varValue)\n",
    "    \n",
    "df2 = pd.DataFrame({'variable':variable_name, 'value': variable_value})\n",
    "df2 = df2.loc[df2['value']==1.0]\n",
    "\n",
    "\n",
    "df2['EmpID'] = df2.variable.str.extract(r'(\\d+)', expand=True)\n",
    "df2['EmpID'] = str('x')+ df2.EmpID\n",
    "\n",
    "df2['Day'] = df2.variable.str.replace('\\d+', '')\n",
    "df2['Day'] = df2.Day.str.replace('x', '')\n",
    "df2['Day'] = df2.Day.str.replace('Avail', '')\n",
    "\n",
    "df2.sort_values(by=['Day'])\n",
    "\n",
    "print (df2)\n",
    "\n"
   ]
  },
  {
   "cell_type": "code",
   "execution_count": 27,
   "metadata": {
    "scrolled": true
   },
   "outputs": [
    {
     "name": "stdout",
     "output_type": "stream",
     "text": [
      "        Nurse EmpID\n",
      "0       Jacob    x0\n",
      "1     Katrina    x1\n",
      "2       Daisy    x2\n",
      "3       Tracy    x3\n",
      "4       Sally    x4\n",
      "5      Stella    x5\n",
      "6      Marcus    x6\n",
      "7   Christina    x7\n",
      "8        Mark    x8\n",
      "9       Janet    x9\n",
      "10       Nina   x10\n",
      "11      Brian   x11\n",
      "12    Richard   x12\n"
     ]
    }
   ],
   "source": [
    "fields = ['Nurse']\n",
    "dfNurses = pd.read_excel(r'C:\\Users\\jthekkel\\Documents\\Optimization\\NurseOptimizationDetail.xlsx',sheet_name='Data',usecols=fields)\n",
    "\n",
    "dfNurses['EmpID'] = dfNurses.reset_index().index\n",
    "dfNurses['EmpID'] = str('x')+ dfNurses.EmpID.map(str)\n",
    "\n",
    "print(dfNurses)"
   ]
  },
  {
   "cell_type": "code",
   "execution_count": 28,
   "metadata": {
    "scrolled": false
   },
   "outputs": [
    {
     "data": {
      "text/html": [
       "<div>\n",
       "<style scoped>\n",
       "    .dataframe tbody tr th:only-of-type {\n",
       "        vertical-align: middle;\n",
       "    }\n",
       "\n",
       "    .dataframe tbody tr th {\n",
       "        vertical-align: top;\n",
       "    }\n",
       "\n",
       "    .dataframe thead th {\n",
       "        text-align: right;\n",
       "    }\n",
       "</style>\n",
       "<table border=\"1\" class=\"dataframe\">\n",
       "  <thead>\n",
       "    <tr style=\"text-align: right;\">\n",
       "      <th></th>\n",
       "      <th>Day</th>\n",
       "      <th>Nurse</th>\n",
       "    </tr>\n",
       "  </thead>\n",
       "  <tbody>\n",
       "    <tr>\n",
       "      <th>4</th>\n",
       "      <td>.Friday</td>\n",
       "      <td>Brian</td>\n",
       "    </tr>\n",
       "    <tr>\n",
       "      <th>9</th>\n",
       "      <td>.Friday</td>\n",
       "      <td>Stella</td>\n",
       "    </tr>\n",
       "    <tr>\n",
       "      <th>11</th>\n",
       "      <td>.Friday</td>\n",
       "      <td>Marcus</td>\n",
       "    </tr>\n",
       "    <tr>\n",
       "      <th>5</th>\n",
       "      <td>.Monday</td>\n",
       "      <td>Tracy</td>\n",
       "    </tr>\n",
       "    <tr>\n",
       "      <th>12</th>\n",
       "      <td>.Monday</td>\n",
       "      <td>Marcus</td>\n",
       "    </tr>\n",
       "    <tr>\n",
       "      <th>13</th>\n",
       "      <td>.Monday</td>\n",
       "      <td>Christina</td>\n",
       "    </tr>\n",
       "    <tr>\n",
       "      <th>0</th>\n",
       "      <td>.Thursday</td>\n",
       "      <td>Jacob</td>\n",
       "    </tr>\n",
       "    <tr>\n",
       "      <th>2</th>\n",
       "      <td>.Thursday</td>\n",
       "      <td>Nina</td>\n",
       "    </tr>\n",
       "    <tr>\n",
       "      <th>7</th>\n",
       "      <td>.Thursday</td>\n",
       "      <td>Sally</td>\n",
       "    </tr>\n",
       "    <tr>\n",
       "      <th>8</th>\n",
       "      <td>.Tuesday</td>\n",
       "      <td>Sally</td>\n",
       "    </tr>\n",
       "    <tr>\n",
       "      <th>10</th>\n",
       "      <td>.Tuesday</td>\n",
       "      <td>Stella</td>\n",
       "    </tr>\n",
       "    <tr>\n",
       "      <th>14</th>\n",
       "      <td>.Tuesday</td>\n",
       "      <td>Christina</td>\n",
       "    </tr>\n",
       "    <tr>\n",
       "      <th>1</th>\n",
       "      <td>.Wednesday</td>\n",
       "      <td>Jacob</td>\n",
       "    </tr>\n",
       "    <tr>\n",
       "      <th>3</th>\n",
       "      <td>.Wednesday</td>\n",
       "      <td>Nina</td>\n",
       "    </tr>\n",
       "    <tr>\n",
       "      <th>6</th>\n",
       "      <td>.Wednesday</td>\n",
       "      <td>Tracy</td>\n",
       "    </tr>\n",
       "  </tbody>\n",
       "</table>\n",
       "</div>"
      ],
      "text/plain": [
       "           Day      Nurse\n",
       "4      .Friday      Brian\n",
       "9      .Friday     Stella\n",
       "11     .Friday     Marcus\n",
       "5      .Monday      Tracy\n",
       "12     .Monday     Marcus\n",
       "13     .Monday  Christina\n",
       "0    .Thursday      Jacob\n",
       "2    .Thursday       Nina\n",
       "7    .Thursday      Sally\n",
       "8     .Tuesday      Sally\n",
       "10    .Tuesday     Stella\n",
       "14    .Tuesday  Christina\n",
       "1   .Wednesday      Jacob\n",
       "3   .Wednesday       Nina\n",
       "6   .Wednesday      Tracy"
      ]
     },
     "execution_count": 28,
     "metadata": {},
     "output_type": "execute_result"
    }
   ],
   "source": [
    "result = pd.merge(df2,dfNurses, how = 'inner', on = 'EmpID')\n",
    "result = result.drop(columns=['value','variable','EmpID'])\n",
    "result.sort_values('Day')"
   ]
  },
  {
   "cell_type": "code",
   "execution_count": null,
   "metadata": {},
   "outputs": [],
   "source": []
  }
 ],
 "metadata": {
  "kernelspec": {
   "display_name": "Python 2",
   "language": "python",
   "name": "python2"
  },
  "language_info": {
   "codemirror_mode": {
    "name": "ipython",
    "version": 2
   },
   "file_extension": ".py",
   "mimetype": "text/x-python",
   "name": "python",
   "nbconvert_exporter": "python",
   "pygments_lexer": "ipython2",
   "version": "2.7.16"
  }
 },
 "nbformat": 4,
 "nbformat_minor": 2
}

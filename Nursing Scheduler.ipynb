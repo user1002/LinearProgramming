{
 "cells": [
  {
   "cell_type": "code",
   "execution_count": 182,
   "metadata": {},
   "outputs": [],
   "source": [
    "from pulp import *\n",
    "import numpy as np\n",
    "import pandas as pd\n",
    "import re \n",
    "import matplotlib.pyplot as plt\n",
    "from IPython.display import Image\n",
    "%matplotlib inline"
   ]
  },
  {
   "cell_type": "code",
   "execution_count": 183,
   "metadata": {
    "scrolled": true
   },
   "outputs": [
    {
     "name": "stdout",
     "output_type": "stream",
     "text": [
      "        Nurse  Pay  Quality  DayOff\n",
      "0       Tracy   20        1       0\n",
      "1       Sally   25       10       1\n",
      "2      Marcus   20        2       1\n",
      "3       Jacob   18        1       1\n",
      "4       Daisy   19       10       1\n",
      "5      Stella   20        1       0\n",
      "6       Janet   20       10       1\n",
      "7     Richard   22       10       1\n",
      "8        Mark   20       10       0\n",
      "9        Nina   21        3       0\n",
      "10      Brian   21        3       1\n",
      "11  Christina   20        3       1\n",
      "12    Katrina   18       10       1\n"
     ]
    }
   ],
   "source": [
    "#Read a file\n",
    "data = pd.read_excel(r'C:\\Users\\jthekkel\\Documents\\Optimization\\NurseOptimizationDetail.xlsx',sheet_name='Data')\n",
    "print(data)"
   ]
  },
  {
   "cell_type": "markdown",
   "metadata": {},
   "source": [
    "Pay = Hourly Pay\n",
    "\n",
    "Quality = Score 1-10; 1 being the best\n",
    "\n",
    "DayOff = 0 is off, 1 is available "
   ]
  },
  {
   "cell_type": "markdown",
   "metadata": {},
   "source": [
    "### Data Investigation"
   ]
  },
  {
   "cell_type": "code",
   "execution_count": 184,
   "metadata": {
    "scrolled": true
   },
   "outputs": [
    {
     "data": {
      "image/png": "[encoded data removed]",
      "text/plain": [
       "<Figure size 432x288 with 2 Axes>"
      ]
     },
     "metadata": {
      "needs_background": "light"
     },
     "output_type": "display_data"
    }
   ],
   "source": [
    "fig, axs = plt.subplots(1,2)\n",
    "my_plot = data[['Nurse', 'Pay']].plot(kind='bar', title=\"Nurse by Pay\", ax=axs[0])\n",
    "my_plot = data[['Nurse', 'Quality']].plot(kind='bar', title=\"Nurse by Quality\", ax=axs[1])"
   ]
  },
  {
   "cell_type": "code",
   "execution_count": 185,
   "metadata": {},
   "outputs": [
    {
     "data": {
      "image/png": "[encoded data removed]",
      "text/plain": [
       "<Figure size 432x288 with 1 Axes>"
      ]
     },
     "metadata": {
      "needs_background": "light"
     },
     "output_type": "display_data"
    }
   ],
   "source": [
    "y = data.Pay\n",
    "x = data.Quality\n",
    "\n",
    "plt.scatter(x,y, alpha=0.5)\n",
    "plt.ylabel('Pay')\n",
    "plt.xlabel('Quality')\n",
    "plt.show()"
   ]
  },
  {
   "cell_type": "markdown",
   "metadata": {},
   "source": [
    "### Create Problem"
   ]
  },
  {
   "cell_type": "code",
   "execution_count": 186,
   "metadata": {},
   "outputs": [],
   "source": [
    "#We want to minimize the cost\n",
    "prob = pulp.LpProblem('ScheduleNurse',pulp.LpMinimize)"
   ]
  },
  {
   "cell_type": "markdown",
   "metadata": {},
   "source": [
    "### Decision Variables "
   ]
  },
  {
   "cell_type": "code",
   "execution_count": 187,
   "metadata": {},
   "outputs": [
    {
     "name": "stdout",
     "output_type": "stream",
     "text": [
      "Total number of decision_variables: 13\n",
      "Array with Decision Variables:[x0, x1, x2, x3, x4, x5, x6, x7, x8, x9, x10, x11, x12]\n"
     ]
    }
   ],
   "source": [
    "decision_variables = []\n",
    "for rownum, row in data.iterrows(): #loop through each row\n",
    "\tvariable = str('x' + str(rownum)) #add x to each rownum\n",
    "\tvariable = pulp.LpVariable(str(variable), lowBound = 0, upBound = 1, cat= 'Integer') #make variables binary\n",
    "\tdecision_variables.append(variable)\n",
    "\n",
    "print (\"Total number of decision_variables: \" + str(len(decision_variables)))\n",
    "print (\"Array with Decision Variables:\" + str(decision_variables))"
   ]
  },
  {
   "cell_type": "markdown",
   "metadata": {},
   "source": [
    "### Objective Function"
   ]
  },
  {
   "cell_type": "code",
   "execution_count": 188,
   "metadata": {},
   "outputs": [
    {
     "name": "stdout",
     "output_type": "stream",
     "text": [
      "Optimization function: 250*x1 + 63*x10 + 60*x11 + 180*x12 + 40*x2 + 18*x3 + 190*x4 + 200*x6 + 220*x7\n"
     ]
    }
   ],
   "source": [
    "total_cost = \"\"\n",
    "for rownum, row in data.iterrows():\n",
    "\tfor i, schedule in enumerate(decision_variables):\n",
    "\t\tif rownum == i:\n",
    "\t\t\tformula = row['Pay']*row['Quality']*row['DayOff']*schedule\n",
    "\t\t\ttotal_cost += formula\n",
    "\n",
    "prob += total_cost\n",
    "print (\"Optimization function: \" + str(total_cost))"
   ]
  },
  {
   "cell_type": "markdown",
   "metadata": {},
   "source": [
    "### Constaints "
   ]
  },
  {
   "cell_type": "code",
   "execution_count": 189,
   "metadata": {},
   "outputs": [],
   "source": [
    "#Constraint 1\n",
    "Nurses_per_shift = 2\n",
    "total_Nurses = \"\"\n",
    "for rownum, row in data.iterrows():\n",
    "\tfor i, schedule in enumerate(decision_variables):\n",
    "\t\tif rownum == i:\n",
    "\t\t\tformula = schedule\n",
    "\t\t\ttotal_Nurses += formula\n",
    "\n",
    "prob += (total_Nurses == Nurses_per_shift)"
   ]
  },
  {
   "cell_type": "code",
   "execution_count": 190,
   "metadata": {},
   "outputs": [],
   "source": [
    "#Constraint 2\n",
    "DayOff = \"\"\n",
    "for rownum, row in data.iterrows():\n",
    "\tfor i, schedule in enumerate(decision_variables):\n",
    "\t\tif rownum == i:\n",
    "\t\t\tformula = row['DayOff']*schedule\n",
    "\t\t\tDayOff += formula\n",
    "\n",
    "prob += (DayOff == 2)"
   ]
  },
  {
   "cell_type": "markdown",
   "metadata": {},
   "source": [
    "### Print Problem Statement"
   ]
  },
  {
   "cell_type": "code",
   "execution_count": 191,
   "metadata": {
    "scrolled": false
   },
   "outputs": [
    {
     "name": "stdout",
     "output_type": "stream",
     "text": [
      "ScheduleNurse:\n",
      "MINIMIZE\n",
      "250*x1 + 63*x10 + 60*x11 + 180*x12 + 40*x2 + 18*x3 + 190*x4 + 200*x6 + 220*x7 + 0\n",
      "SUBJECT TO\n",
      "_C1: x0 + x1 + x10 + x11 + x12 + x2 + x3 + x4 + x5 + x6 + x7 + x8 + x9 = 2\n",
      "\n",
      "_C2: x1 + x10 + x11 + x12 + x2 + x3 + x4 + x6 + x7 = 2\n",
      "\n",
      "VARIABLES\n",
      "0 <= x0 <= 1 Integer\n",
      "0 <= x1 <= 1 Integer\n",
      "0 <= x10 <= 1 Integer\n",
      "0 <= x11 <= 1 Integer\n",
      "0 <= x12 <= 1 Integer\n",
      "0 <= x2 <= 1 Integer\n",
      "0 <= x3 <= 1 Integer\n",
      "0 <= x4 <= 1 Integer\n",
      "0 <= x5 <= 1 Integer\n",
      "0 <= x6 <= 1 Integer\n",
      "0 <= x7 <= 1 Integer\n",
      "0 <= x8 <= 1 Integer\n",
      "0 <= x9 <= 1 Integer\n",
      "\n"
     ]
    }
   ],
   "source": [
    "print prob\n",
    "prob.writeLP(\"ScheduleNurses.lp\" )"
   ]
  },
  {
   "cell_type": "markdown",
   "metadata": {},
   "source": [
    "### Execute Optimizer "
   ]
  },
  {
   "cell_type": "code",
   "execution_count": 192,
   "metadata": {},
   "outputs": [
    {
     "name": "stdout",
     "output_type": "stream",
     "text": [
      "('Status:', 'Optimal')\n",
      "('Optimal Solution to the problem: ', 58.0)\n",
      "Individual decision_variables: \n",
      "('x0', '=', 0.0)\n",
      "('x1', '=', 0.0)\n",
      "('x10', '=', 0.0)\n",
      "('x11', '=', 0.0)\n",
      "('x12', '=', 0.0)\n",
      "('x2', '=', 1.0)\n",
      "('x3', '=', 1.0)\n",
      "('x4', '=', 0.0)\n",
      "('x5', '=', 0.0)\n",
      "('x6', '=', 0.0)\n",
      "('x7', '=', 0.0)\n",
      "('x8', '=', 0.0)\n",
      "('x9', '=', 0.0)\n"
     ]
    }
   ],
   "source": [
    "optimization_result = prob.solve()\n",
    "\n",
    "assert optimization_result == pulp.LpStatusOptimal\n",
    "print(\"Status:\", LpStatus[prob.status])\n",
    "print(\"Optimal Solution to the problem: \", value(prob.objective))\n",
    "print (\"Individual decision_variables: \")\n",
    "for v in prob.variables():\n",
    "\tprint(v.name, \"=\", v.varValue)"
   ]
  },
  {
   "cell_type": "markdown",
   "metadata": {},
   "source": [
    "### Display Output"
   ]
  },
  {
   "cell_type": "code",
   "execution_count": 193,
   "metadata": {},
   "outputs": [
    {
     "name": "stderr",
     "output_type": "stream",
     "text": [
      "C:\\Users\\jthekkel\\AppData\\Local\\Continuum\\anaconda2\\lib\\site-packages\\ipykernel_launcher.py:13: FutureWarning: by argument to sort_index is deprecated, please use .sort_values(by=...)\n",
      "  del sys.path[0]\n"
     ]
    },
    {
     "data": {
      "text/html": [
       "<div>\n",
       "<style scoped>\n",
       "    .dataframe tbody tr th:only-of-type {\n",
       "        vertical-align: middle;\n",
       "    }\n",
       "\n",
       "    .dataframe tbody tr th {\n",
       "        vertical-align: top;\n",
       "    }\n",
       "\n",
       "    .dataframe thead th {\n",
       "        text-align: right;\n",
       "    }\n",
       "</style>\n",
       "<table border=\"1\" class=\"dataframe\">\n",
       "  <thead>\n",
       "    <tr style=\"text-align: right;\">\n",
       "      <th></th>\n",
       "      <th>Nurse</th>\n",
       "      <th>Pay</th>\n",
       "      <th>Quality</th>\n",
       "      <th>DayOff</th>\n",
       "      <th>decision</th>\n",
       "    </tr>\n",
       "  </thead>\n",
       "  <tbody>\n",
       "    <tr>\n",
       "      <th>0</th>\n",
       "      <td>Tracy</td>\n",
       "      <td>20</td>\n",
       "      <td>1</td>\n",
       "      <td>0</td>\n",
       "      <td>0.0</td>\n",
       "    </tr>\n",
       "    <tr>\n",
       "      <th>1</th>\n",
       "      <td>Sally</td>\n",
       "      <td>25</td>\n",
       "      <td>10</td>\n",
       "      <td>1</td>\n",
       "      <td>0.0</td>\n",
       "    </tr>\n",
       "    <tr>\n",
       "      <th>2</th>\n",
       "      <td>Marcus</td>\n",
       "      <td>20</td>\n",
       "      <td>2</td>\n",
       "      <td>1</td>\n",
       "      <td>1.0</td>\n",
       "    </tr>\n",
       "    <tr>\n",
       "      <th>3</th>\n",
       "      <td>Jacob</td>\n",
       "      <td>18</td>\n",
       "      <td>1</td>\n",
       "      <td>1</td>\n",
       "      <td>1.0</td>\n",
       "    </tr>\n",
       "    <tr>\n",
       "      <th>4</th>\n",
       "      <td>Daisy</td>\n",
       "      <td>19</td>\n",
       "      <td>10</td>\n",
       "      <td>1</td>\n",
       "      <td>0.0</td>\n",
       "    </tr>\n",
       "    <tr>\n",
       "      <th>5</th>\n",
       "      <td>Stella</td>\n",
       "      <td>20</td>\n",
       "      <td>1</td>\n",
       "      <td>0</td>\n",
       "      <td>0.0</td>\n",
       "    </tr>\n",
       "    <tr>\n",
       "      <th>6</th>\n",
       "      <td>Janet</td>\n",
       "      <td>20</td>\n",
       "      <td>10</td>\n",
       "      <td>1</td>\n",
       "      <td>0.0</td>\n",
       "    </tr>\n",
       "    <tr>\n",
       "      <th>7</th>\n",
       "      <td>Richard</td>\n",
       "      <td>22</td>\n",
       "      <td>10</td>\n",
       "      <td>1</td>\n",
       "      <td>0.0</td>\n",
       "    </tr>\n",
       "    <tr>\n",
       "      <th>8</th>\n",
       "      <td>Mark</td>\n",
       "      <td>20</td>\n",
       "      <td>10</td>\n",
       "      <td>0</td>\n",
       "      <td>0.0</td>\n",
       "    </tr>\n",
       "    <tr>\n",
       "      <th>9</th>\n",
       "      <td>Nina</td>\n",
       "      <td>21</td>\n",
       "      <td>3</td>\n",
       "      <td>0</td>\n",
       "      <td>0.0</td>\n",
       "    </tr>\n",
       "    <tr>\n",
       "      <th>10</th>\n",
       "      <td>Brian</td>\n",
       "      <td>21</td>\n",
       "      <td>3</td>\n",
       "      <td>1</td>\n",
       "      <td>0.0</td>\n",
       "    </tr>\n",
       "    <tr>\n",
       "      <th>11</th>\n",
       "      <td>Christina</td>\n",
       "      <td>20</td>\n",
       "      <td>3</td>\n",
       "      <td>1</td>\n",
       "      <td>0.0</td>\n",
       "    </tr>\n",
       "    <tr>\n",
       "      <th>12</th>\n",
       "      <td>Katrina</td>\n",
       "      <td>18</td>\n",
       "      <td>10</td>\n",
       "      <td>1</td>\n",
       "      <td>0.0</td>\n",
       "    </tr>\n",
       "  </tbody>\n",
       "</table>\n",
       "</div>"
      ],
      "text/plain": [
       "        Nurse  Pay  Quality  DayOff  decision\n",
       "0       Tracy   20        1       0       0.0\n",
       "1       Sally   25       10       1       0.0\n",
       "2      Marcus   20        2       1       1.0\n",
       "3       Jacob   18        1       1       1.0\n",
       "4       Daisy   19       10       1       0.0\n",
       "5      Stella   20        1       0       0.0\n",
       "6       Janet   20       10       1       0.0\n",
       "7     Richard   22       10       1       0.0\n",
       "8        Mark   20       10       0       0.0\n",
       "9        Nina   21        3       0       0.0\n",
       "10      Brian   21        3       1       0.0\n",
       "11  Christina   20        3       1       0.0\n",
       "12    Katrina   18       10       1       0.0"
      ]
     },
     "execution_count": 193,
     "metadata": {},
     "output_type": "execute_result"
    }
   ],
   "source": [
    "variable_name = []\n",
    "variable_value = []\n",
    "\n",
    "for v in prob.variables():\n",
    "\tvariable_name.append(v.name)\n",
    "\tvariable_value.append(v.varValue)\n",
    "\n",
    "df = pd.DataFrame({'variable': variable_name, 'value': variable_value})\n",
    "for rownum, row in df.iterrows():\n",
    "\tvalue = re.findall(r'(\\d+)', row['variable'])\n",
    "\tdf.loc[rownum, 'variable'] = int(value[0])\n",
    "\n",
    "df = df.sort_index(by='variable')\n",
    "\n",
    "#append results\n",
    "for rownum, row in data.iterrows():\n",
    "\tfor results_rownum, results_row in df.iterrows():\n",
    "\t\tif rownum == results_row['variable']:\n",
    "\t\t\tdata.loc[rownum, 'decision'] = results_row['value']\n",
    "            \n",
    "data[:]"
   ]
  }
 ],
 "metadata": {
  "kernelspec": {
   "display_name": "Python 2",
   "language": "python",
   "name": "python2"
  },
  "language_info": {
   "codemirror_mode": {
    "name": "ipython",
    "version": 2
   },
   "file_extension": ".py",
   "mimetype": "text/x-python",
   "name": "python",
   "nbconvert_exporter": "python",
   "pygments_lexer": "ipython2",
   "version": "2.7.16"
  }
 },
 "nbformat": 4,
 "nbformat_minor": 2
}
